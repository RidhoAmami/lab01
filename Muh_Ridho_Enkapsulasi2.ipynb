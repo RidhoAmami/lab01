{
  "nbformat": 4,
  "nbformat_minor": 0,
  "metadata": {
    "colab": {
      "provenance": [],
      "include_colab_link": true
    },
    "kernelspec": {
      "name": "python3",
      "display_name": "Python 3"
    },
    "language_info": {
      "name": "python"
    }
  },
  "cells": [
    {
      "cell_type": "markdown",
      "metadata": {
        "id": "view-in-github",
        "colab_type": "text"
      },
      "source": [
        "<a href=\"https://colab.research.google.com/github/RidhoAmami/lab01/blob/main/Muh_Ridho_Enkapsulasi2.ipynb\" target=\"_parent\"><img src=\"https://colab.research.google.com/assets/colab-badge.svg\" alt=\"Open In Colab\"/></a>"
      ]
    },
    {
      "cell_type": "markdown",
      "source": [
        "Buatlah kelas RekeningBank dengan atribut berikut:\n",
        "\n",
        "*   nama_pemilik (private)\n",
        "*   saldo (private)\n",
        "\n",
        "Berikan metode berikut:\n",
        "\n",
        "*   __init__: Menginisialisasi saldo dan nama_pemilik.\n",
        "*   set_saldo: Mengubah nilai saldo.\n",
        "*   get_saldo: Mengembalikan nilai saldo.\n",
        "*   set_nama_pemilik: Mengubah nama pemilik.\n",
        "*   get_nama_pemilik: Mengembalikan nama pemilik.\n",
        "\n",
        "\n",
        "\n",
        "\n",
        "\n",
        "\n",
        "\n",
        "\n"
      ],
      "metadata": {
        "id": "PktiI90eS6Ee"
      }
    },
    {
      "cell_type": "code",
      "source": [
        "# Desain class\n",
        "class Rekening_Bank():\n",
        "  def __init__(self,nama,saldo):\n",
        "    self.__nama = nama\n",
        "    self.__saldo = saldo\n",
        "\n",
        "  def get_nama(self):\n",
        "    return self.__nama\n",
        "\n",
        "  def set_nama(self,nama):\n",
        "    self.__nama = nama\n",
        "\n",
        "  def get_saldo(self):\n",
        "    return self.__saldo\n",
        "\n",
        "  def set_saldo(self,saldo):\n",
        "    if saldo > 20000000:\n",
        "      self.__saldo = \"diatas 20 juta\"\n",
        "    elif saldo < 1000000:\n",
        "      self.__saldo = \"dibawah 1 juta\"\n",
        "    else:\n",
        "      self.__saldo = saldo"
      ],
      "metadata": {
        "id": "Pyj-mkyciVfk"
      },
      "execution_count": 4,
      "outputs": []
    },
    {
      "cell_type": "code",
      "source": [
        "#Program utama untuk mendemonstrasikan class RekeningBank\n",
        "BCA = Rekening_Bank('Pemula',500000)\n",
        "#yang menunjukkan penggunaan semua fungsi yang ada\n",
        "print(BCA.get_nama())\n",
        "print(BCA.get_saldo())\n",
        "\n",
        "#print sebelum di set\n",
        "print('Nama pemilik Rekening Bank adalah', BCA.get_nama(),' dan mempunyai saldo ',BCA.get_saldo())\n",
        "\n",
        "#setelah di set\n",
        "BCA.set_nama( \"Ridho\" )\n",
        "BCA.set_saldo(999999999999999)\n",
        "\n",
        "#print sesudah di set\n",
        "print('Nama pemilik Rekening Bank adalah', BCA.get_nama(),' dan mempunyai saldo ',BCA.get_saldo())"
      ],
      "metadata": {
        "id": "aOwy6rfdSga2",
        "colab": {
          "base_uri": "https://localhost:8080/"
        },
        "outputId": "bed54c2b-7a7a-496d-9a7c-49c0c816b714"
      },
      "execution_count": 7,
      "outputs": [
        {
          "output_type": "stream",
          "name": "stdout",
          "text": [
            "Pemula\n",
            "500000\n",
            "Nama pemilik Rekening Bank adalah Pemula  dan mempunyai saldo  500000\n",
            "Nama pemilik Rekening Bank adalah Ridho  dan mempunyai saldo  diatas 20 juta\n"
          ]
        }
      ]
    }
  ]
}