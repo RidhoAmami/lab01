{
  "nbformat": 4,
  "nbformat_minor": 0,
  "metadata": {
    "colab": {
      "provenance": [],
      "include_colab_link": true
    },
    "kernelspec": {
      "name": "python3",
      "display_name": "Python 3"
    },
    "language_info": {
      "name": "python"
    }
  },
  "cells": [
    {
      "cell_type": "markdown",
      "metadata": {
        "id": "view-in-github",
        "colab_type": "text"
      },
      "source": [
        "<a href=\"https://colab.research.google.com/github/RidhoAmami/lab01/blob/main/TugasLatihanMuhRidho.ipynb\" target=\"_parent\"><img src=\"https://colab.research.google.com/assets/colab-badge.svg\" alt=\"Open In Colab\"/></a>"
      ]
    },
    {
      "cell_type": "markdown",
      "source": [
        "Sebuah start-up GoPay merupakan perusahaan vintage yang menjadi alat pembayaran aplikasi marketplace dan lainnya. Anda seorang programmer yang ditugaskan untuk membuat aplikasi GoPay yang memiliki sebuah class bernama AkunGopay, yang memiliki atribut no_hp, nama dan saldo, dimana semua atribut bersifat private, demi keamanan.\n",
        "\n",
        "\n",
        "Pengguna bisa mendaftar akun GoPay dengan no_hp dan nama saja, namun juga bisa mendaftar dengan no_hp, nama dan saldo. Jika mendaftar dengan no_hp dan nama saja maka saldo otomatis bernilai 0.\n",
        "\n",
        "\n",
        "Class AkunGopay harus menyediakan fungsi yang dapat diakses oleh Marketplace untuk melakukan transaksi, yaitu :\n",
        "\n",
        "1.   topUp(), yang digunakan untuk menambahkan saldo\n",
        "2.   bayarTransaksi(), yang mengurangi saldo ketika melakukan transaksi\n",
        "3.   getSaldo(), untuk mengetahui jumlah saldo\n",
        "\n",
        "\n",
        "\n",
        "Teman Anda adalah seorang programer yang bekerja di sebuah start-up terkemuka Tokopedia yang bekerjasama dengan start-up keuangan GoPay. Anda ditugaskan membuat apikasi yang memiliki class AkunToped, dan memiliki atribut nama dan nomer_hp.\n",
        "\n",
        "Class AkunToped harus menyediakan fungsi yang untuk melakukan transaksi, yaitu:\n",
        "\n",
        "1. transaksi(), yang digunakan untuk mengurangi saldo Gopay dengan paramater nominal transaksi.\n",
        "2. getSaldo(), untuk mengetahui jumlah saldo Gopay.\n",
        "\n"
      ],
      "metadata": {
        "id": "NOQKwrfHB4pv"
      }
    },
    {
      "cell_type": "code",
      "execution_count": 15,
      "metadata": {
        "id": "peDTMz-5kxlh"
      },
      "outputs": [],
      "source": [
        "#Desain Class\n",
        "class AkunGopay():\n",
        "  def __init__(self, nama, noHp, saldo = 0):\n",
        "    self.__nama = nama\n",
        "    self.__noHp = noHp\n",
        "    self.__saldo = saldo\n",
        "\n",
        "  def get_daftar(self):\n",
        "    print('Nama : ',self.__nama)\n",
        "    print('No Handphone : ',self.__noHp)\n",
        "    print('saldo anda sebesar : ',self.__saldo)\n",
        "\n",
        "  def Topup(self, topupSaldo):\n",
        "    self.__saldo += topupSaldo\n",
        "    print ('Saldo anda bertambah sebesar : ',self.__saldo)\n",
        "\n",
        "  def Bayar(self, transaksi):\n",
        "    if transaksi <= self.__saldo:\n",
        "      self.__saldo -= transaksi\n",
        "      print ('Saldo anda berkurang, sisa saldo anda : ',self.__saldo)\n",
        "    else:\n",
        "      print('Saldo anda tidak mencukupi')\n",
        "\n",
        "  def get_saldo(self):\n",
        "    return self.__saldo"
      ]
    },
    {
      "cell_type": "code",
      "source": [
        "#Main Program\n",
        "akun1 = AkunGopay('Hansen','0987654321')\n",
        "print(akun1.get_daftar())\n",
        "akun1.Topup(200000)\n",
        "akun1.Bayar(5000)"
      ],
      "metadata": {
        "id": "eitzekkYkycQ",
        "colab": {
          "base_uri": "https://localhost:8080/"
        },
        "outputId": "36fc683f-2647-43d9-e214-7c8c2319c1dd"
      },
      "execution_count": 33,
      "outputs": [
        {
          "output_type": "stream",
          "name": "stdout",
          "text": [
            "Nama :  Hansen\n",
            "No Handphone :  0987654321\n",
            "saldo anda sebesar :  0\n",
            "None\n",
            "Saldo anda bertambah sebesar :  200000\n",
            "Saldo anda berkurang, sisa saldo anda :  195000\n"
          ]
        }
      ]
    },
    {
      "cell_type": "code",
      "source": [
        "class AkunTokped():\n",
        "  def __init__(self, noHp, nama):\n",
        "    self.__noHp = noHp\n",
        "    self.__nama = nama\n",
        "\n",
        "  def Transaksi(self,gopay,jumlah_trans):\n",
        "    gopay.Bayar(jumlah_trans)\n",
        "    print('Pembayaran berhasil')\n",
        "\n",
        "  def get_saldo(self,gopay):\n",
        "    print('Akun Gopay anda mempunyai saldo sebesar : Rp',gopay.get_saldo())"
      ],
      "metadata": {
        "id": "prnyfaY4j7bF"
      },
      "execution_count": 29,
      "outputs": []
    },
    {
      "cell_type": "code",
      "source": [
        "gopay1 = AkunTokped(212313121,'hansen')\n",
        "gopay1.Transaksi(akun1,5000)\n",
        "gopay1.get_saldo(akun1)"
      ],
      "metadata": {
        "colab": {
          "base_uri": "https://localhost:8080/"
        },
        "id": "stTjtg7TD232",
        "outputId": "5fc4ef7f-df15-4aee-97c4-83f1b0fec9cb"
      },
      "execution_count": 34,
      "outputs": [
        {
          "output_type": "stream",
          "name": "stdout",
          "text": [
            "Saldo anda berkurang, sisa saldo anda :  190000\n",
            "Pembayaran berhasil\n",
            "Akun Gopay anda mempunyai saldo sebesar : Rp 190000\n"
          ]
        }
      ]
    }
  ]
}