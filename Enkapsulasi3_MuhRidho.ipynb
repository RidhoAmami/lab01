{
  "nbformat": 4,
  "nbformat_minor": 0,
  "metadata": {
    "colab": {
      "provenance": [],
      "authorship_tag": "ABX9TyP7G1H4OFxmUbZZ7XFI7EmJ",
      "include_colab_link": true
    },
    "kernelspec": {
      "name": "python3",
      "display_name": "Python 3"
    },
    "language_info": {
      "name": "python"
    }
  },
  "cells": [
    {
      "cell_type": "markdown",
      "metadata": {
        "id": "view-in-github",
        "colab_type": "text"
      },
      "source": [
        "<a href=\"https://colab.research.google.com/github/RidhoAmami/lab01/blob/main/Enkapsulasi3_MuhRidho.ipynb\" target=\"_parent\"><img src=\"https://colab.research.google.com/assets/colab-badge.svg\" alt=\"Open In Colab\"/></a>"
      ]
    },
    {
      "cell_type": "code",
      "execution_count": 2,
      "metadata": {
        "id": "qpkwI_3Om2Nk"
      },
      "outputs": [],
      "source": [
        "#Nama : Muh Ridho Amami\n",
        "# Desain class\n",
        "class Rekening_Bank():\n",
        "  def __init__(self,nama,saldo):\n",
        "    self.__nama = nama\n",
        "    self.__saldo = saldo\n",
        "\n",
        "#Membuat fungsi untuk mencetak nama\n",
        "  def get_nama(self):\n",
        "    return self.__nama\n",
        "\n",
        "#Membuat fungsi untuk mengganti nama\n",
        "  def set_nama(self,nama):\n",
        "    self.__nama = nama\n",
        "\n",
        "#Membuat fungsi untuk mencetak total saldo awal\n",
        "  def get_saldo(self):\n",
        "    return self.__saldo\n",
        "\n",
        "#Membuat fungsi untuk mengganti total saldo awal\n",
        "  def set_saldo(self,saldo):\n",
        "    self.__saldo = saldo\n",
        "\n",
        "#Membuat fungsi untuk setor atau menambahkan saldo awal\n",
        "  def setor(self, jumla_setor):\n",
        "    self.__saldo += jumla_setor\n",
        "    print(\"Saldo anda bertambah sebesar: \", self.__saldo)\n",
        "\n",
        "#Membuat fungsi untuk tarik saldo atau mengurangi saldo\n",
        "#Terdapat kondisi jika jumlah tariknya tidak melebihi saldo maka akan mengurangi saldo\n",
        "#Jika saldo tidak cukup untuk melakukan penarikan, maka tidak akan merubah saldo.\n",
        "  def tarik(self, jumla_tarik):\n",
        "    if jumla_tarik <= self.__saldo:\n",
        "      self.__saldo -= jumla_tarik\n",
        "      print(\"Penarikan \", jumla_tarik, \"berhasil. Saldo sisa: \",self.__saldo)\n",
        "    else:\n",
        "      print(\"Saldo tidak mencukupi untuk melakukan penarikan.\")\n"
      ]
    },
    {
      "cell_type": "code",
      "source": [
        "#Membuat demo pada program utama untuk menunjukkan fitur-fitur program yang telah dibuat!\n",
        "BNI = Rekening_Bank(\"Fikri\", 1100000)\n",
        "\n",
        "#menunjukkan penggunaan get\n",
        "print(\"-------------------------------------------\")\n",
        "print(\"Pemilik bank bernama: \", BNI.get_nama())\n",
        "print(\"Memiliki saldo sebesar: \", BNI.get_saldo())\n",
        "print(\"-------------------------------------------\")\n",
        "\n",
        "#menunjukkan penggunaan set\n",
        "BNI.set_nama( \"Ridho\" )\n",
        "BNI.set_saldo(900000)\n",
        "\n",
        "#menunjukkan penggunaan setelah di set\n",
        "print(\"Pemilik bank bernama: \", BNI.get_nama())\n",
        "print(\"Memiliki saldo sebesar: \", BNI.get_saldo())\n",
        "print(\"-------------------------------------------\")\n",
        "\n",
        "#Menunjukkan penggunaan fungsi setor dan tarik\n",
        "BNI.setor(2100000)\n",
        "BNI.tarik(2500000)\n",
        "print(\"-------------------------------------------\")\n",
        "\n",
        "#Menunjukkan penggunaan fungsi tarik jika jumlah tarik melebihi saldo\n",
        "BNI.tarik(600000)\n",
        "print(\"-------------------------------------------\")"
      ],
      "metadata": {
        "colab": {
          "base_uri": "https://localhost:8080/"
        },
        "id": "ZEcO5Ax8dSO9",
        "outputId": "54dadcce-579c-4eea-880b-3ecc91268557"
      },
      "execution_count": 13,
      "outputs": [
        {
          "output_type": "stream",
          "name": "stdout",
          "text": [
            "-------------------------------------------\n",
            "Pemilik bank bernama:  Fikri\n",
            "Memiliki saldo sebesar:  1100000\n",
            "-------------------------------------------\n",
            "Pemilik bank bernama:  Ridho\n",
            "Memiliki saldo sebesar:  900000\n",
            "-------------------------------------------\n",
            "Saldo anda bertambah sebesar:  3000000\n",
            "Penarikan  2500000 berhasil. Saldo sisa:  500000\n",
            "-------------------------------------------\n",
            "Saldo tidak mencukupi untuk melakukan penarikan.\n",
            "-------------------------------------------\n"
          ]
        }
      ]
    }
  ]
}