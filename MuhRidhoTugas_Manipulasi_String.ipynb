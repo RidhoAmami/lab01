{
  "nbformat": 4,
  "nbformat_minor": 0,
  "metadata": {
    "colab": {
      "provenance": [],
      "include_colab_link": true
    },
    "kernelspec": {
      "name": "python3",
      "display_name": "Python 3"
    },
    "language_info": {
      "name": "python"
    }
  },
  "cells": [
    {
      "cell_type": "markdown",
      "metadata": {
        "id": "view-in-github",
        "colab_type": "text"
      },
      "source": [
        "<a href=\"https://colab.research.google.com/github/RidhoAmami/lab01/blob/main/MuhRidhoTugas_Manipulasi_String.ipynb\" target=\"_parent\"><img src=\"https://colab.research.google.com/assets/colab-badge.svg\" alt=\"Open In Colab\"/></a>"
      ]
    },
    {
      "cell_type": "markdown",
      "source": [
        "buatlah class Catatan dengan atribut\n",
        "1. nama (string)\n",
        "2. nomor_absen (intejer)\n",
        "3. catatan (string)\n",
        "\n",
        "buat fungsi untuk\n",
        "1. menggabungkan semua atribut diatas menjadi sebuah kalimat menggunakan pertambahan string\n",
        "2. mencari kata dalam sebuah kalimat menggunakan fungsi in\n",
        "3. menggandakan jumlah kalimat menggunakan tanda perkalian *\n",
        "4. menghitung jumlah huruf dalam kalimat menggunakan len\n",
        "5. mencari kata pertama dalam kalimat menggunakan startswith"
      ],
      "metadata": {
        "id": "AIkziXKoHrlK"
      }
    },
    {
      "cell_type": "code",
      "source": [
        "#desain class\n",
        "class Catatan:\n",
        "  def __init__(self, nama, noAbs, catatan):\n",
        "    self.nama = nama\n",
        "    self.noAbs = str(noAbs)\n",
        "    self.catatan = catatan\n",
        "\n",
        "  def gabung(self):\n",
        "    hasil = 'nama =' + ' ' + self.nama + ', ' + 'no absen = ' + ' ' + self.noAbs + ' ' + 'catatannya' + ' '+self.catatan\n",
        "    return hasil\n",
        "\n",
        "  def tampil(self):\n",
        "    print(self.gabung())\n",
        "\n",
        "  def cari(self):\n",
        "    print(self.nama in self.gabung())\n",
        "\n",
        "  def hitung(self):\n",
        "    print(len(self.gabung()))\n",
        "\n",
        "  def ganda(self):\n",
        "    print(self.nama * 2)\n",
        "\n",
        "  def pertama(self):\n",
        "    print(str(self.nama).startswith('b'))"
      ],
      "metadata": {
        "id": "_YQuLGp_IA93"
      },
      "execution_count": 35,
      "outputs": []
    },
    {
      "cell_type": "code",
      "source": [
        "#main program\n",
        "siswa = Catatan('budi', 99, 'dia adalah siswa buruk')\n",
        "siswa.gabung()\n",
        "siswa.tampil()\n",
        "siswa.cari()\n",
        "siswa.hitung()\n",
        "siswa.ganda()\n",
        "siswa.pertama()"
      ],
      "metadata": {
        "id": "QdIPVcTJID9Q",
        "colab": {
          "base_uri": "https://localhost:8080/"
        },
        "outputId": "85f5680b-4e3d-4f78-a91b-5759e239a95f"
      },
      "execution_count": 36,
      "outputs": [
        {
          "output_type": "stream",
          "name": "stdout",
          "text": [
            "nama = budi, no absen =  99 catatannya dia adalah siswa buruk\n",
            "True\n",
            "61\n",
            "budibudi\n",
            "True\n"
          ]
        }
      ]
    }
  ]
}