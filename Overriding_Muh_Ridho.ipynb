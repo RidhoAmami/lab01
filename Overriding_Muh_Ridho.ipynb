{
  "nbformat": 4,
  "nbformat_minor": 0,
  "metadata": {
    "colab": {
      "provenance": [],
      "include_colab_link": true
    },
    "kernelspec": {
      "name": "python3",
      "display_name": "Python 3"
    },
    "language_info": {
      "name": "python"
    }
  },
  "cells": [
    {
      "cell_type": "markdown",
      "metadata": {
        "id": "view-in-github",
        "colab_type": "text"
      },
      "source": [
        "<a href=\"https://colab.research.google.com/github/RidhoAmami/lab01/blob/main/Overriding_Muh_Ridho.ipynb\" target=\"_parent\"><img src=\"https://colab.research.google.com/assets/colab-badge.svg\" alt=\"Open In Colab\"/></a>"
      ]
    },
    {
      "cell_type": "markdown",
      "source": [
        "Lengkapi kode program berikut ini, sehingga bisa menghasilkan output seperti berikut!\n",
        "```\n",
        "Pohon Kelapa tumbuh dengan tinggi 800\n",
        " --> dan daun menyirip\n",
        "Mawar tumbuh dengan tinggi 50\n",
        " --> dan berwarna merah\n",
        " ```\n",
        "\n"
      ],
      "metadata": {
        "id": "RljxHcHbJLfE"
      }
    },
    {
      "cell_type": "code",
      "execution_count": 28,
      "metadata": {
        "id": "lWZ-ESv159Iq"
      },
      "outputs": [],
      "source": [
        "class Tanaman:\n",
        "  def __init__(self, nama, tinggi):\n",
        "    self.nama = nama\n",
        "    self.tinggi = tinggi\n",
        "    # lengkapi kontruktor ini\n",
        "\n",
        "  def tumbuh(self):\n",
        "    print({self.nama},'tumbuh dengan tinggi', {self.tinggi}, 'cm')"
      ]
    },
    {
      "cell_type": "code",
      "source": [
        "class Pohon(Tanaman):\n",
        "  def __init__(self, nama, tinggi, jenis_daun):\n",
        "    super().__init__(nama, tinggi)\n",
        "    self.jenis_daun = jenis_daun\n",
        "    # lengkapi kontruktor ini\n",
        "\n",
        "  def tumbuh(self):\n",
        "    # panggil fungsi tumbuh dari induk\n",
        "\n",
        "    print(self.nama,'tumbuh dengan tinggi', self.tinggi, 'cm', \"dan daun\",self.jenis_daun)"
      ],
      "metadata": {
        "id": "xkteR9AOGKJH"
      },
      "execution_count": 29,
      "outputs": []
    },
    {
      "cell_type": "code",
      "source": [
        "class Bunga(Tanaman):\n",
        "  def __init__(self, nama, tinggi, warna):\n",
        "    super().__init__(nama, tinggi)\n",
        "    self.warna = warna\n",
        "    # lengkapi kontruktor ini\n",
        "\n",
        "  def tumbuh(self):\n",
        "    # panggil fungsi tumbuh dari induk\n",
        "\n",
        "    print(\"Bunga\",self.nama,'tumbuh dengan tinggi', self.tinggi, 'cm', \"dan berwarna\", self.warna)"
      ],
      "metadata": {
        "id": "ZJBeyb94GMEo"
      },
      "execution_count": 32,
      "outputs": []
    },
    {
      "cell_type": "code",
      "source": [
        "# Membuat objek-objek tanaman\n",
        "tanaman1 = Pohon(\"Pohon Durian\", 2500, \"menyirip\")\n",
        "tanaman2 = Bunga(\"Tulip\", 70, \"merah muda\")\n",
        "\n",
        "# Memanggil metode tumbuh yang telah di-override\n",
        "tanaman1.tumbuh()\n",
        "tanaman2.tumbuh()"
      ],
      "metadata": {
        "id": "wl3IHLSkGOIT",
        "colab": {
          "base_uri": "https://localhost:8080/"
        },
        "outputId": "31acadbd-2d9f-4deb-a57a-952531198682"
      },
      "execution_count": 33,
      "outputs": [
        {
          "output_type": "stream",
          "name": "stdout",
          "text": [
            "Pohon Durian tumbuh dengan tinggi 2500 cm dan daun menyirip\n",
            "Bunga Tulip tumbuh dengan tinggi 70 cm dan berwarna merah muda\n"
          ]
        }
      ]
    }
  ]
}