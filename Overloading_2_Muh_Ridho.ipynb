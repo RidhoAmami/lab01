{
  "nbformat": 4,
  "nbformat_minor": 0,
  "metadata": {
    "colab": {
      "provenance": [],
      "include_colab_link": true
    },
    "kernelspec": {
      "name": "python3",
      "display_name": "Python 3"
    },
    "language_info": {
      "name": "python"
    }
  },
  "cells": [
    {
      "cell_type": "markdown",
      "metadata": {
        "id": "view-in-github",
        "colab_type": "text"
      },
      "source": [
        "<a href=\"https://colab.research.google.com/github/RidhoAmami/lab01/blob/main/Overloading_2_Muh_Ridho.ipynb\" target=\"_parent\"><img src=\"https://colab.research.google.com/assets/colab-badge.svg\" alt=\"Open In Colab\"/></a>"
      ]
    },
    {
      "cell_type": "code",
      "execution_count": 2,
      "metadata": {
        "id": "5zCytCeM1uD4"
      },
      "outputs": [],
      "source": [
        "#class Nama\n",
        "class Nama():\n",
        "  def namaPanjang(self, *args):\n",
        "        kalimat = ''\n",
        "        for kata in args:\n",
        "            kalimat += kata\n",
        "        print(kalimat)\n",
        "#Buat fungsi yang digunakan untuk mengabungkan nama dengan ketentuan nama depan, nama tengah, nama akhir, dan seterusnya dianggap 1 (satu) parameter"
      ]
    },
    {
      "cell_type": "code",
      "source": [
        "#Buat main program\n",
        "sambung = Nama()\n",
        "#Panggil fungsi untuk membuat nama lengkap 4 nama teman kalian\n",
        "sambung.namaPanjang('Ridho',' Amami')\n",
        "sambung.namaPanjang('Bryan',' Habibi')\n",
        "sambung.namaPanjang('Eko','Dian')\n",
        "sambung.namaPanjang('Restu',' Puja')"
      ],
      "metadata": {
        "id": "liQBcJWZ12MN",
        "colab": {
          "base_uri": "https://localhost:8080/"
        },
        "outputId": "8e7e0710-034f-48de-ec69-9aeb386d7ea2"
      },
      "execution_count": 3,
      "outputs": [
        {
          "output_type": "stream",
          "name": "stdout",
          "text": [
            "Ridho Amami\n",
            "Bryan Habibi\n",
            "EkoDian\n",
            "Restu Puja\n"
          ]
        }
      ]
    },
    {
      "cell_type": "code",
      "source": [
        "Tulisakan kesimpulan dari materi Overloading menurut pemahaman anda!\n",
        "mirip seperti for atau while dan juga sum"
      ],
      "metadata": {
        "id": "xwFmppIG3JGE"
      },
      "execution_count": null,
      "outputs": []
    }
  ]
}