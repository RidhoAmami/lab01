{
  "nbformat": 4,
  "nbformat_minor": 0,
  "metadata": {
    "colab": {
      "provenance": [],
      "include_colab_link": true
    },
    "kernelspec": {
      "name": "python3",
      "display_name": "Python 3"
    },
    "language_info": {
      "name": "python"
    }
  },
  "cells": [
    {
      "cell_type": "markdown",
      "metadata": {
        "id": "view-in-github",
        "colab_type": "text"
      },
      "source": [
        "<a href=\"https://colab.research.google.com/github/RidhoAmami/lab01/blob/main/OvrRiding2nd_Muh_Ridho.ipynb\" target=\"_parent\"><img src=\"https://colab.research.google.com/assets/colab-badge.svg\" alt=\"Open In Colab\"/></a>"
      ]
    },
    {
      "cell_type": "markdown",
      "source": [
        "Anda bekerja sebagai programmer di sebuah supermarket besar. Manajemen supermarket ingin Anda mengembangkan program Python untuk mengelola berbagai jenis produk yang mereka jual di toko mereka. Mereka memiliki kelas dasar **Produk** dengan atribut berikut:\n",
        "\n",
        "*   kode_barang (kode unik produk)\n",
        "*   nama (nama produk)\n",
        "*   harga (harga produk)\n",
        "\n",
        "Selain itu, mereka memiliki dua jenis produk spesifik: **ProdukMakanan** dan **ProdukElektronik**. Produk makanan memiliki atribut tambahan:\n",
        "\n",
        "*   tanggal_kadaluarsa (tanggal kadaluarsa makanan)\n",
        "\n",
        "Sementara Produk elektronik memiliki atribut tambahan:\n",
        "\n",
        "*   garansi (lama garansi dalam bulan)\n",
        "\n",
        "Manajemen supermarket ingin Anda membuat program Python yang memungkinkan mereka untuk mencetak informasi tentang setiap produk, termasuk kode barang, nama, harga, serta atribut tambahan yang sesuai (tanggal kadaluarsa atau lama garansi).\n",
        "\n",
        "Tugas Anda adalah:\n",
        "\n",
        "\n",
        "1.   Membuat kelas Produk dengan atribut kode_barang, nama, dan harga, serta metode deskripsi yang mencetak informasi tentang produk tersebut.\n",
        "2.   Membuat kelas ProdukMakanan yang mewarisi dari kelas Produk dan memiliki atribut tambahan tanggal_kadaluarsa, serta mengimplementasikan metode deskripsi untuk mencetak informasi tentang produk makanan.\n",
        "1.   Membuat kelas ProdukElektronik yang juga mewarisi dari kelas Produk dan memiliki atribut tambahan garansi, serta mengimplementasikan metode deskripsi untuk mencetak informasi tentang produk elektronik.\n",
        "\n",
        "Program Anda harus mendemonstrasikan penggunaan konsep **overriding** dalam Python dalam konteks produk di supermarket.\n",
        "\n",
        "Selamat mengerjakan!\n",
        "\n",
        "\n",
        "\n",
        "\n",
        "\n"
      ],
      "metadata": {
        "id": "Yo0ulCyP2WPG"
      }
    },
    {
      "cell_type": "code",
      "execution_count": 14,
      "metadata": {
        "id": "tG1-g1OW2KSu"
      },
      "outputs": [],
      "source": [
        "class Produk:\n",
        "  def __init__(self, kode, nama, merk, harga):\n",
        "    self.kode = kode\n",
        "    self.nama = nama\n",
        "    self.merk = merk\n",
        "    self.harga = harga\n",
        "\n",
        "  def deskripsi(self):\n",
        "    print(\" Kode barang : \", self.kode, \", Nama Barang : \", self.nama, \", Nama Merk: \", self.merk, \", Harga Barang : Rp.\", self.harga,)"
      ]
    },
    {
      "cell_type": "code",
      "source": [
        "class ProdukMakanan (Produk):\n",
        "  def __init__(self, kode, nama, merk, harga, expired):\n",
        "    super().__init__(kode, nama, merk, harga)\n",
        "    self.expired = expired\n",
        "\n",
        "  def deskripsi(self):\n",
        "    super().deskripsi()\n",
        "    print(\"Expired pada: \", self.expired)"
      ],
      "metadata": {
        "id": "oy32Lm4m39l0"
      },
      "execution_count": 15,
      "outputs": []
    },
    {
      "cell_type": "code",
      "source": [
        "class ProdukElektronik (Produk):\n",
        "  def __init__(self, kode, nama, merk, harga, garansi):\n",
        "    super().__init__(kode, nama, merk, harga)\n",
        "    self.garansi = garansi\n",
        "\n",
        "  def deskripsi(self, periode= 'bulan'):\n",
        "    super().deskripsi()\n",
        "    print(\"Garansi selama\", self.garansi, periode)"
      ],
      "metadata": {
        "id": "wEgEGwxm4A1y"
      },
      "execution_count": 16,
      "outputs": []
    },
    {
      "cell_type": "code",
      "source": [
        "# Contoh penggunaan masing-masing jenis class produk\n",
        "# produk makanan di sini\n",
        "Makaroni = ProdukMakanan (1001, 'Makaroni', 'Yeah', 1000, '12 desember 2025')\n",
        "# produk elektroni di sini\n",
        "Televisi = ProdukElektronik (1002, 'Televisi', 'LG',1000000, 6)\n",
        "\n",
        "# Deskripsi produk makanan\n",
        "print(\"Deskripsi Produk Makanan:\")\n",
        "# lengkapi\n",
        "Makaroni.deskripsi()\n",
        "# Deskripsi produk elektronik\n",
        "print(\"Deskripsi Produk Elektronik:\")\n",
        "# lengkapi\n",
        "Televisi.deskripsi()"
      ],
      "metadata": {
        "id": "noeSP_dw4F4c",
        "colab": {
          "base_uri": "https://localhost:8080/"
        },
        "outputId": "fbfa6227-b68e-4c18-8467-9aa60bfbe423"
      },
      "execution_count": 17,
      "outputs": [
        {
          "output_type": "stream",
          "name": "stdout",
          "text": [
            "Deskripsi Produk Makanan:\n",
            " Kode barang :  1001 , Nama Barang :  Makaroni , Nama Merk:  Yeah , Harga Barang : Rp. 1000\n",
            "Expired pada:  12 desember 2025\n",
            "Deskripsi Produk Elektronik:\n",
            " Kode barang :  1002 , Nama Barang :  Televisi , Nama Merk:  LG , Harga Barang : Rp. 1000000\n",
            "Garansi selama 6 bulan\n"
          ]
        }
      ]
    }
  ]
}