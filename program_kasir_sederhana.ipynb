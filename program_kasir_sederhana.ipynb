{
  "nbformat": 4,
  "nbformat_minor": 0,
  "metadata": {
    "colab": {
      "provenance": [],
      "authorship_tag": "ABX9TyPcePEwm8hbfENtvD58jCb7",
      "include_colab_link": true
    },
    "kernelspec": {
      "name": "python3",
      "display_name": "Python 3"
    },
    "language_info": {
      "name": "python"
    }
  },
  "cells": [
    {
      "cell_type": "markdown",
      "metadata": {
        "id": "view-in-github",
        "colab_type": "text"
      },
      "source": [
        "<a href=\"https://colab.research.google.com/github/RidhoAmami/lab01/blob/main/program_kasir_sederhana.ipynb\" target=\"_parent\"><img src=\"https://colab.research.google.com/assets/colab-badge.svg\" alt=\"Open In Colab\"/></a>"
      ]
    },
    {
      "cell_type": "code",
      "source": [
        "print(\"program kasir sederhana\")\n",
        "print(\"=======================\")\n",
        "a = str(input(\"masukkan nama barang\\t\"))\n",
        "b = int(input(\"masukkan jumlah barang\\t\"))\n",
        "c = int(input(\"masukkan harga barang\\t\"))\n",
        "d = b*c\n",
        "print(a, d)\n",
        "e = int(input(\"bayar\\t\"))\n",
        "f = e-d\n",
        "print(\"kembali\", f)"
      ],
      "metadata": {
        "colab": {
          "base_uri": "https://localhost:8080/"
        },
        "id": "kUzRqGlRNrCb",
        "outputId": "c02a08ec-e642-475e-978a-fb519c698d07"
      },
      "execution_count": null,
      "outputs": [
        {
          "output_type": "stream",
          "name": "stdout",
          "text": [
            "program kasir sederhana\n",
            "=======================\n",
            "masukkan nama barang\tbuku\n",
            "masukkan jumlah barang\t3\n",
            "masukkan harga barang\t5000\n",
            "buku 15000\n",
            "bayar\t20000\n",
            "kembali 5000\n"
          ]
        }
      ]
    }
  ]
}